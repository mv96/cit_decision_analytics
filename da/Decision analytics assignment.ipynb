{
 "cells": [
  {
   "cell_type": "code",
   "execution_count": 1,
   "metadata": {},
   "outputs": [],
   "source": [
    "from ortools.sat.python import cp_model\n",
    "\n",
    "#initialize every variable constraint\n",
    "\n",
    "names = [\"Carol\", \"Elisa\", \"Oliver\",\"Lucas\"]\n",
    "\n",
    "universities = [\"Cambridge\", \"Oxford\", \"Edinburgh\", \"London\"]\n",
    "\n",
    "origin_country=[\"USA\",\"SA\",\"Canada\",\"Australia\"]\n",
    "\n",
    "courses= [\"history\",\"medicine\",\"law\",\"architecture\"]\n",
    "\n",
    "genders=[\"boy\",\"girl\"]"
   ]
  },
  {
   "cell_type": "code",
   "execution_count": 2,
   "metadata": {},
   "outputs": [],
   "source": [
    "class SolutionPrinter(cp_model.CpSolverSolutionCallback):\n",
    "    def __init__(self, universities, origin_country, courses,genders):\n",
    "        cp_model.CpSolverSolutionCallback.__init__(self)\n",
    "        self.origin_country = origin_country\n",
    "        self.universities = universities\n",
    "        self.courses = courses\n",
    "        self.genders=genders\n",
    "        self.solutions_ = 0\n",
    "\n",
    "    def OnSolutionCallback(self):\n",
    "        self.solutions_ = self.solutions_ + 1\n",
    "        print(\"solution\", self.solutions_ )\n",
    "        \n",
    "        for name in names:\n",
    "            print(\" - \"+name+\":\")\n",
    "            for country in origin_country:\n",
    "                if (self.Value(self.origin_country[name][country])):\n",
    "                    print(\"origin country : \", country)\n",
    "            for college in universities:\n",
    "                if (self.Value(self.universities[name][college])):\n",
    "                    print(\"college going : \", college)\n",
    "            for course in courses:\n",
    "                if (self.Value(self.courses[name][course])):\n",
    "                    print(\"course studying: \", course)\n",
    "            for gender in genders:\n",
    "                if (self.Value(self.genders[name][gender])):\n",
    "                    print(\"gender of the individual: \", gender)\n",
    "        \n",
    "        print()"
   ]
  },
  {
   "cell_type": "code",
   "execution_count": 3,
   "metadata": {},
   "outputs": [],
   "source": [
    "model = cp_model.CpModel()\n",
    "\n",
    "#make a dictionary of all the possible countries that my name can take\n",
    "name_origin_country = {}\n",
    "for name in names:        \n",
    "    variables = {}\n",
    "    for country in origin_country:    \n",
    "        variables[country] = model.NewBoolVar(name+country)\n",
    "    name_origin_country[name] = variables\n",
    "\n",
    "name_university = {}\n",
    "for name in names:        \n",
    "    variables = {}\n",
    "    for college in universities:    \n",
    "        variables[college] = model.NewBoolVar(name+college)\n",
    "    name_university[name] = variables\n",
    "\n",
    "name_course = {}\n",
    "for name in names:        \n",
    "    variables = {}\n",
    "    for course in courses:    \n",
    "        variables[course] = model.NewBoolVar(name+course)\n",
    "    name_course[name] = variables\n",
    "    \n",
    "name_gender = {}\n",
    "for name in names:        \n",
    "    variables = {}\n",
    "    for gender in genders:    \n",
    "        variables[gender] = model.NewBoolVar(name+gender)\n",
    "    name_gender[name] = variables"
   ]
  },
  {
   "cell_type": "code",
   "execution_count": 4,
   "metadata": {},
   "outputs": [
    {
     "name": "stdout",
     "output_type": "stream",
     "text": [
      "{'Carol': {'USA': CarolUSA(0..1), 'SA': CarolSA(0..1), 'Canada': CarolCanada(0..1), 'Australia': CarolAustralia(0..1)}, 'Elisa': {'USA': ElisaUSA(0..1), 'SA': ElisaSA(0..1), 'Canada': ElisaCanada(0..1), 'Australia': ElisaAustralia(0..1)}, 'Oliver': {'USA': OliverUSA(0..1), 'SA': OliverSA(0..1), 'Canada': OliverCanada(0..1), 'Australia': OliverAustralia(0..1)}, 'Lucas': {'USA': LucasUSA(0..1), 'SA': LucasSA(0..1), 'Canada': LucasCanada(0..1), 'Australia': LucasAustralia(0..1)}}\n",
      "\n",
      "\n",
      "{'Carol': {'history': Carolhistory(0..1), 'medicine': Carolmedicine(0..1), 'law': Carollaw(0..1), 'architecture': Carolarchitecture(0..1)}, 'Elisa': {'history': Elisahistory(0..1), 'medicine': Elisamedicine(0..1), 'law': Elisalaw(0..1), 'architecture': Elisaarchitecture(0..1)}, 'Oliver': {'history': Oliverhistory(0..1), 'medicine': Olivermedicine(0..1), 'law': Oliverlaw(0..1), 'architecture': Oliverarchitecture(0..1)}, 'Lucas': {'history': Lucashistory(0..1), 'medicine': Lucasmedicine(0..1), 'law': Lucaslaw(0..1), 'architecture': Lucasarchitecture(0..1)}}\n",
      "\n",
      "\n",
      "{'Carol': {'Cambridge': CarolCambridge(0..1), 'Oxford': CarolOxford(0..1), 'Edinburgh': CarolEdinburgh(0..1), 'London': CarolLondon(0..1)}, 'Elisa': {'Cambridge': ElisaCambridge(0..1), 'Oxford': ElisaOxford(0..1), 'Edinburgh': ElisaEdinburgh(0..1), 'London': ElisaLondon(0..1)}, 'Oliver': {'Cambridge': OliverCambridge(0..1), 'Oxford': OliverOxford(0..1), 'Edinburgh': OliverEdinburgh(0..1), 'London': OliverLondon(0..1)}, 'Lucas': {'Cambridge': LucasCambridge(0..1), 'Oxford': LucasOxford(0..1), 'Edinburgh': LucasEdinburgh(0..1), 'London': LucasLondon(0..1)}}\n"
     ]
    }
   ],
   "source": [
    "print(name_origin_country)\n",
    "print(\"\\n\")\n",
    "print(name_course)\n",
    "print(\"\\n\")\n",
    "print(name_university)"
   ]
  },
  {
   "cell_type": "code",
   "execution_count": 5,
   "metadata": {},
   "outputs": [],
   "source": [
    "# every name has a different entity\n",
    "for i in range(4): #iterate through all the names\n",
    "    for j in range(i+1,4): #iterate through all the names afterwards\n",
    "        for k in range(4): #iterate through all the countries , universities , courses\n",
    "            model.AddBoolOr([\n",
    "                    name_origin_country[names[i]][origin_country[k]].Not(), \n",
    "                    name_origin_country[names[j]][origin_country[k]].Not()])\n",
    "            model.AddBoolOr([\n",
    "                name_university[names[i]][universities[k]].Not(),\n",
    "                             name_university[names[j]][universities[k]].Not()])\n",
    "            model.AddBoolOr([\n",
    "                name_course[names[i]][courses[k]].Not(), \n",
    "                name_course[names[j]][courses[k]].Not()])\n",
    "\n",
    "\n",
    "model.AddBoolAnd([name_gender[\"Carol\"][\"girl\"]])\n",
    "model.AddBoolAnd([name_gender[\"Elisa\"][\"girl\"]])\n",
    "model.AddBoolAnd([name_gender[\"Oliver\"][\"boy\"]])\n",
    "model.AddBoolAnd([name_gender[\"Lucas\"][\"boy\"]])\n",
    "\n",
    "\n",
    "for name in names:\n",
    "    # at least one entity per name\n",
    "    variables = []\n",
    "    for country in origin_country:\n",
    "        variables.append(name_origin_country[name][country])\n",
    "    model.AddBoolOr(variables)\n",
    "\n",
    "    variables = []\n",
    "    for college in universities:\n",
    "        variables.append(name_university[name][college])\n",
    "    model.AddBoolOr(variables)\n",
    "\n",
    "    variables = []\n",
    "    for course in courses:\n",
    "        variables.append(name_course[name][course])\n",
    "    model.AddBoolOr(variables)\n",
    "\n",
    "    # max one entity per name\n",
    "    for i in range(4):\n",
    "        for j in range(i+1,4):\n",
    "            model.AddBoolOr([\n",
    "                    name_origin_country[name][origin_country[i]].Not(), \n",
    "                    name_origin_country[name][origin_country[j]].Not()])\n",
    "            model.AddBoolOr([\n",
    "                    name_university[name][universities[i]].Not(), \n",
    "                    name_university[name][universities[j]].Not()])\n",
    "            model.AddBoolOr([\n",
    "                    name_course[name][courses[i]].Not(), \n",
    "                    name_course[name][courses[j]].Not()])\n",
    "            \n",
    "    #to restrict only one gender\n",
    "    for i in range(2):\n",
    "        for j in range(i+1,2):\n",
    "            model.AddBoolOr([\n",
    "                    name_gender[name][genders[i]].Not(), \n",
    "                    name_gender[name][genders[j]].Not()])\n"
   ]
  },
  {
   "cell_type": "code",
   "execution_count": 6,
   "metadata": {},
   "outputs": [],
   "source": [
    "#One of them is going to London (1).\n",
    "\n",
    "#this is already contained in the first few assumptions that we made\n",
    "\n"
   ]
  },
  {
   "cell_type": "code",
   "execution_count": 7,
   "metadata": {},
   "outputs": [
    {
     "data": {
      "text/plain": [
       "<ortools.sat.python.cp_model.Constraint at 0x10c636150>"
      ]
     },
     "execution_count": 7,
     "metadata": {},
     "output_type": "execute_result"
    }
   ],
   "source": [
    "#Exactly one boy and one girl chose a university in a city with the same initial of their names (2).\n",
    "\n",
    "#carol is going to cambridge if elisa is not going to edinburgh\n",
    "model.AddBoolOr([name_university[names[0]][universities[0]]]).OnlyEnforceIf([name_university[names[1]][universities[2]].Not()])\n",
    "#and oliver is going to Oxford if lucas is not going to london\n",
    "model.AddBoolAnd([name_university[names[2]][universities[1]]]).OnlyEnforceIf([name_university[names[3]][universities[3]].Not()])\n",
    "#carol is not going to cambridge if elisa is going to edinburgh\n",
    "model.AddBoolOr([name_university[names[0]][universities[0]].Not()]).OnlyEnforceIf([name_university[names[1]][universities[2]]])\n",
    "# and oliver is not going to oxford if lucas is going to london\n",
    "model.AddBoolAnd([name_university[names[2]][universities[1]].Not()]).OnlyEnforceIf([name_university[names[3]][universities[3]]])"
   ]
  },
  {
   "cell_type": "code",
   "execution_count": 8,
   "metadata": {},
   "outputs": [
    {
     "data": {
      "text/plain": [
       "<ortools.sat.python.cp_model.Constraint at 0x10c6762d0>"
      ]
     },
     "execution_count": 8,
     "metadata": {},
     "output_type": "execute_result"
    }
   ],
   "source": [
    "#A boy is from Australia, the other studies History (3).\n",
    "\n",
    "#lucas is from austrailia if oliver studies history\n",
    "model.AddBoolOr([name_origin_country[names[3]][origin_country[3]]]).OnlyEnforceIf([name_course[names[2]][courses[0]]])\n",
    "#oliver is from austrailia if lucas studies history\n",
    "model.AddBoolOr([name_origin_country[names[2]][origin_country[3]]]).OnlyEnforceIf([name_course[names[3]][courses[0]]])\n",
    "#Elisa can't be from austraila or study history, carol can't be from austrailia or study history\n",
    "model.AddBoolAnd([name_origin_country[names[1]][origin_country[3]].Not(),name_course[names[0]][courses[0]].Not(),\n",
    "                 name_origin_country[names[0]][origin_country[3]].Not(),name_course[names[1]][courses[0]].Not()])\n"
   ]
  },
  {
   "cell_type": "code",
   "execution_count": 9,
   "metadata": {},
   "outputs": [
    {
     "data": {
      "text/plain": [
       "<ortools.sat.python.cp_model.Constraint at 0x10c63b9d0>"
      ]
     },
     "execution_count": 9,
     "metadata": {},
     "output_type": "execute_result"
    }
   ],
   "source": [
    "#A girl goes to Cambridge, the other studies Medicine (4).\n",
    "\n",
    "#carol goes to cambridge if elisa studies medicine\n",
    "model.AddBoolOr([name_university[names[0]][universities[0]]]).OnlyEnforceIf([name_course[names[1]][courses[1]]])\n",
    "#elisa goes to cambridge if carol studies medicine\n",
    "model.AddBoolOr([name_university[names[1]][universities[0]]]).OnlyEnforceIf([name_course[names[0]][courses[1]]])\n",
    "#oliver cant go to cambridge and he can't study medicine \n",
    "#lucas cant go to cambridge and he can't study medicine\n",
    "model.AddBoolAnd([name_university[names[2]][universities[0]].Not(),name_course[names[2]][courses[1]].Not(),\n",
    "                  name_university[names[3]][universities[0]].Not(),name_course[names[3]][courses[1]].Not()])"
   ]
  },
  {
   "cell_type": "code",
   "execution_count": 10,
   "metadata": {},
   "outputs": [
    {
     "data": {
      "text/plain": [
       "<ortools.sat.python.cp_model.Constraint at 0x10c654810>"
      ]
     },
     "execution_count": 10,
     "metadata": {},
     "output_type": "execute_result"
    }
   ],
   "source": [
    "#Oliver studies Law or is from USA; He is not from South Africa (5).\n",
    "#oliver studies Law if he is not from usa\n",
    "model.AddBoolOr([name_course[names[2]][courses[2]]]).OnlyEnforceIf([name_origin_country[names[2]][origin_country[0]].Not()])\n",
    "#oliver does not study law if he is from US\n",
    "model.AddBoolOr([name_course[names[2]][courses[2]].Not()]).OnlyEnforceIf([name_origin_country[names[2]][origin_country[0]]])\n",
    "#oliver is not from south africa for sure\n",
    "model.AddBoolAnd([name_origin_country[names[2]][origin_country[1]].Not()])"
   ]
  },
  {
   "cell_type": "code",
   "execution_count": 11,
   "metadata": {},
   "outputs": [],
   "source": [
    "#The student from Canada is a historian or will go to Oxford (6)\n",
    "# a student in the list of student\n",
    "for name in names:\n",
    "    #this student can study history or go to oxford if he is from Canada\n",
    "    model.AddBoolOr([name_course[name][courses[0]],name_university[name][universities[1]]]).OnlyEnforceIf([name_origin_country[name][origin_country[2]]])"
   ]
  },
  {
   "cell_type": "code",
   "execution_count": 12,
   "metadata": {},
   "outputs": [],
   "source": [
    "#The student from South Africa is going to Edinburgh or will study Law (7).\n",
    "for name in names:\n",
    "    model.AddBoolOr([name_course[name][courses[2]],name_university[name][universities[2]]]).OnlyEnforceIf([name_origin_country[name][origin_country[1]]])"
   ]
  },
  {
   "cell_type": "code",
   "execution_count": 13,
   "metadata": {},
   "outputs": [
    {
     "name": "stdout",
     "output_type": "stream",
     "text": [
      "solution 1\n",
      " - Carol:\n",
      "origin country :  SA\n",
      "college going :  Cambridge\n",
      "course studying:  law\n",
      "gender of the individual:  girl\n",
      " - Elisa:\n",
      "origin country :  Canada\n",
      "college going :  Oxford\n",
      "course studying:  medicine\n",
      "gender of the individual:  girl\n",
      " - Oliver:\n",
      "origin country :  USA\n",
      "college going :  Edinburgh\n",
      "course studying:  history\n",
      "gender of the individual:  boy\n",
      " - Lucas:\n",
      "origin country :  Australia\n",
      "college going :  London\n",
      "course studying:  architecture\n",
      "gender of the individual:  boy\n",
      "\n"
     ]
    },
    {
     "data": {
      "text/plain": [
       "4"
      ]
     },
     "execution_count": 13,
     "metadata": {},
     "output_type": "execute_result"
    }
   ],
   "source": [
    "solver = cp_model.CpSolver()    \n",
    "solver.SearchForAllSolutions(model, SolutionPrinter(name_university, name_origin_country, name_course,name_gender))"
   ]
  },
  {
   "cell_type": "code",
   "execution_count": 14,
   "metadata": {},
   "outputs": [
    {
     "name": "stdout",
     "output_type": "stream",
     "text": [
      "{(0, 1): 'Job A', (0, 2): 'Job B', (0, 3): 'Job C', (1, 3): 'Job G', (1, 4): 'Job K', (1, 5): 'Job M', (2, 4): 'Job H', (2, 5): 'Job E', (2, 6): 'Job G', (2, 7): 'Job B', (2, 8): 'Job E', (3, 2): 'Job D', (3, 3): 'Job F', (3, 4): 'Job I', (3, 5): 'Job H', (4, 8): 'Job J', (4, 9): 'Job A', (5, 9): 'Job B', (5, 10): 'Job C', (5, 11): 'Job K', (6, 5): 'Job L', (6, 6): 'Job M', (6, 7): 'Job E', (7, 8): 'Job A', (7, 9): 'Job B', (7, 10): 'Job D', (7, 11): 'Job I', (8, 10): 'Job L', (8, 11): 'Job F', (8, 12): 'Job K'}\n",
      "{'Job A': 0, 'Job B': 1, 'Job C': 2, 'Job D': 3, 'Job E': 4, 'Job F': 5, 'Job G': 6, 'Job H': 7, 'Job I': 8, 'Job J': 9, 'Job K': 10, 'Job L': 11, 'Job M': 12}\n"
     ]
    }
   ],
   "source": [
    "#decision analytics task 2\n",
    "#reading the data\n",
    "import pandas as pd\n",
    "\n",
    "file_name=\"Assignment_DA_1_data.xlsx\"\n",
    "\n",
    "xls = pd.ExcelFile(file_name)\n",
    "\n",
    "df1 = pd.read_excel(xls, 'Projects')\n",
    "df2 = pd.read_excel(xls, 'Quotes')\n",
    "df3 = pd.read_excel(xls, 'Dependencies')\n",
    "df4 = pd.read_excel(xls, 'Value')\n",
    "\n",
    "df1=df1.fillna(0)\n",
    "df2=df2.fillna(0)\n",
    "df3=df3.fillna(0)\n",
    "df4=df4.fillna(0)\n",
    "\n",
    "\n",
    "shape_df1=df1.shape\n",
    "shape_df2=df2.shape\n",
    "shape_df3=df3.shape\n",
    "shape_df4=df4.shape\n",
    "\n",
    "total_projects=shape_df1[0]\n",
    "total_months=shape_df1[1]\n",
    "total_contractors=shape_df2[0]\n",
    "total_jobs=shape_df2[1]\n",
    "\n",
    "all_projects = range(total_projects)\n",
    "all_months = range(1,total_months)\n",
    "all_contractors = range(total_contractors)\n",
    "all_jobs = range(1,total_jobs)\n",
    "\n",
    "#get unique job names where the \n",
    "job_names={}\n",
    "for i in all_projects:\n",
    "    for j in all_months:\n",
    "        if(df1.iloc[i,j]!=0 ):\n",
    "            job_names[(i,j)]=df1.iloc[i,j]\n",
    "\n",
    "print(job_names)\n",
    "jobs_to_num={}\n",
    "unique_jobs=list(set(job_names.values()))\n",
    "unique_jobs.sort()\n",
    "\n",
    "for i in range(len(unique_jobs)):\n",
    "    jobs_to_num[unique_jobs[i]]=i\n",
    "print(jobs_to_num)\n"
   ]
  },
  {
   "cell_type": "code",
   "execution_count": 18,
   "metadata": {
    "scrolled": true
   },
   "outputs": [
    {
     "name": "stdout",
     "output_type": "stream",
     "text": [
      "{(0, 1, 0): project0_month1_c0(0..1), (0, 1, 7): project0_month1_c7(0..1), (0, 2, 4): project0_month2_c4(0..1), (0, 2, 9): project0_month2_c9(0..1), (0, 3, 5): project0_month3_c5(0..1), (0, 3, 10): project0_month3_c10(0..1), (1, 3, 2): project1_month3_c2(0..1), (1, 3, 6): project1_month3_c6(0..1), (1, 3, 8): project1_month3_c8(0..1), (1, 4, 1): project1_month4_c1(0..1), (1, 4, 10): project1_month4_c10(0..1), (1, 5, 1): project1_month5_c1(0..1), (1, 5, 10): project1_month5_c10(0..1), (2, 4, 7): project2_month4_c7(0..1), (2, 4, 10): project2_month4_c10(0..1), (2, 5, 0): project2_month5_c0(0..1), (2, 5, 4): project2_month5_c4(0..1), (2, 6, 2): project2_month6_c2(0..1), (2, 6, 6): project2_month6_c6(0..1), (2, 6, 8): project2_month6_c8(0..1), (2, 7, 4): project2_month7_c4(0..1), (2, 7, 9): project2_month7_c9(0..1), (2, 8, 0): project2_month8_c0(0..1), (2, 8, 4): project2_month8_c4(0..1), (3, 2, 3): project3_month2_c3(0..1), (3, 2, 7): project3_month2_c7(0..1), (3, 3, 5): project3_month3_c5(0..1), (3, 3, 9): project3_month3_c9(0..1), (3, 4, 0): project3_month4_c0(0..1), (3, 4, 6): project3_month4_c6(0..1), (3, 5, 7): project3_month5_c7(0..1), (3, 5, 10): project3_month5_c10(0..1), (4, 8, 2): project4_month8_c2(0..1), (4, 8, 9): project4_month8_c9(0..1), (4, 9, 0): project4_month9_c0(0..1), (4, 9, 7): project4_month9_c7(0..1), (5, 9, 4): project5_month9_c4(0..1), (5, 9, 9): project5_month9_c9(0..1), (5, 10, 5): project5_month10_c5(0..1), (5, 10, 10): project5_month10_c10(0..1), (5, 11, 1): project5_month11_c1(0..1), (5, 11, 10): project5_month11_c10(0..1), (6, 5, 0): project6_month5_c0(0..1), (6, 5, 3): project6_month5_c3(0..1), (6, 6, 1): project6_month6_c1(0..1), (6, 6, 10): project6_month6_c10(0..1), (6, 7, 0): project6_month7_c0(0..1), (6, 7, 4): project6_month7_c4(0..1), (7, 8, 0): project7_month8_c0(0..1), (7, 8, 7): project7_month8_c7(0..1), (7, 9, 4): project7_month9_c4(0..1), (7, 9, 9): project7_month9_c9(0..1), (7, 10, 3): project7_month10_c3(0..1), (7, 10, 7): project7_month10_c7(0..1), (7, 11, 0): project7_month11_c0(0..1), (7, 11, 6): project7_month11_c6(0..1), (8, 10, 0): project8_month10_c0(0..1), (8, 10, 3): project8_month10_c3(0..1), (8, 11, 5): project8_month11_c5(0..1), (8, 11, 9): project8_month11_c9(0..1), (8, 12, 1): project8_month12_c1(0..1), (8, 12, 10): project8_month12_c10(0..1)}\n"
     ]
    }
   ],
   "source": [
    "model = cp_model.CpModel()\n",
    "\n",
    "def get_all_contractors(job_name):\n",
    "    \"\"\"takes the name of the job and returns all the possible contractors available\"\"\"\n",
    "    contractors=list(df2[job_name])\n",
    "    avl_contractors=[]\n",
    "    for i,element in enumerate(contractors):\n",
    "        if(element !=0):\n",
    "            avl_contractors.append(i)\n",
    "    \n",
    "    return avl_contractors\n",
    "    \n",
    "avl_contractors=get_all_contractors(\"Job A\")    \n",
    "    \n",
    "\n",
    "#Assign sheet 1\n",
    "projects_months_contractors = {} #contractors available\n",
    "for p in all_projects:\n",
    "    for m in all_months:\n",
    "            #select possible job blocks\n",
    "            if((p,m) in job_names ):\n",
    "                #assign only those jobs that are possible\n",
    "                get_job=job_names[(p,m)] #this is a text\n",
    "                j=jobs_to_num[get_job] #this is a number \n",
    "                #get contractors list possible for this job\n",
    "                allpossible_contractors=get_all_contractors(get_job)\n",
    "                for c in allpossible_contractors:\n",
    "                    projects_months_contractors[(p,m,c)]= model.NewBoolVar('project%i_month%i_c%i' % (p, m,c))\n",
    "                    \n",
    "# equals 1 if job j is assigned to contractor c on month m, and 0 if the task is not assigned\n",
    "print(projects_months_contractors)\n",
    "\n",
    "\n",
    "#exactly one contractor works on the a particular job \n",
    "\n",
    "#each job has to be done by a contractor which can select or not select\n",
    "for p in all_projects:\n",
    "    for m in all_months:\n",
    "        if((p,m) in job_names): #if there exists a job\n",
    "            get_job=job_names[(p,m)] #this is a text\n",
    "            j=jobs_to_num[get_job] #this is a number \n",
    "            allpossible_contractors=get_all_contractors(get_job)\n",
    "            model.Add(sum(projects_months_contractors[(p,m,c)] for c in allpossible_contractors ) <= 1)\n",
    "\n",
    "#no contractor can work on two jobs at the same time \n",
    "#this means if project is different month we will get some job values for all the contractors willing to work on this problem \n",
    "#they can be maximum 1\n",
    "\n",
    "#for all the months all projects get the jobs available and see for all the occupied spaces \n",
    "#if the space is occupied then we can \n",
    "\n",
    "for p in all_projects: #traverse through all projects\n",
    "    for m in all_months: #traverse through all months \n",
    "        temp_list=[] #make an empty list which will be later used to assign conditions  \n",
    "        for element in projects_months_contractors: #check if the variable already exist in the (p,m,c) variables\n",
    "            if (element[0] == p and element[1] == m): #check for the first two elements \n",
    "                #not all the values will be selected as the index wont match for the blank spots\n",
    "                temp_list.append(projects_months_contractors[element]) #if the two match with the same value then\n",
    "                #we can add this value to the constraint \n",
    "        model.Add(sum(temp_list)==1)\n",
    "\n"
   ]
  },
  {
   "cell_type": "code",
   "execution_count": 39,
   "metadata": {},
   "outputs": [
    {
     "name": "stdout",
     "output_type": "stream",
     "text": [
      "510.0 [0, 4, 10]\n",
      "not valid solution at all\n",
      "935.0 [6, 1, 1]\n",
      "not valid solution at all\n",
      "795.0 [7, 4, 6, 4, 4]\n",
      "not valid solution at all\n",
      "720.0 [7, 5, 6, 7]\n",
      "valid solution with savings: 280.0\n",
      "420.0 [2, 0]\n",
      "valid solution with savings: 1580.0\n",
      "420.0 [4, 10, 1]\n",
      "not valid solution at all\n",
      "500.0 [3, 1, 4]\n",
      "valid solution with savings: 1000.0\n",
      "820.0 [0, 4, 7, 6]\n",
      "valid solution with savings: 180.0\n",
      "470.0 [3, 5, 1]\n",
      "valid solution with savings: 530.0\n"
     ]
    }
   ],
   "source": [
    "#project cost with budget\n",
    "\n",
    "for p in all_projects:\n",
    "    total_price=[]\n",
    "    for m in all_months:\n",
    "        if((p,m) in job_names): #if there exists a job\n",
    "            get_job=job_names[(p,m)] #this is a text\n",
    "            j=jobs_to_num[get_job] #this is a number \n",
    "            allpossible_contractors=get_all_contractors(get_job)\n",
    "            #get the price for all the possible contractors\n",
    "            current=[]\n",
    "            for c in allpossible_contractors:\n",
    "                price=df2.iloc[c,j+1]\n",
    "                current.append((price,c))\n",
    "            #select the minimum of the possible prices for\n",
    "            #print(current)\n",
    "            selected=min(current)\n",
    "            total_price.append(selected)\n",
    "    fprice=0\n",
    "    contractor_names=[]\n",
    "    for element in total_price:\n",
    "        fprice+=element[0]\n",
    "        contractor_names.append(element[1])\n",
    "    print(fprice,contractor_names)\n",
    "    if(fprice<df4.iloc[p,1]):\n",
    "        print(\"valid solution with savings: {}\".format(df4.iloc[p,1]-fprice))\n",
    "    else:\n",
    "        print(\"not valid solution at all\")"
   ]
  },
  {
   "cell_type": "markdown",
   "metadata": {},
   "source": [
    "class SolutionPrinter(cp_model.CpSolverSolutionCallback):\n",
    "    def __init__(self, project, projects_months_contractors):\n",
    "        cp_model.CpSolverSolutionCallback.__init__(self)\n",
    "        self.project_ = project\n",
    "        self.projects_months_contractors = projects_months_contractors\n",
    "        self.solutions_ = 0\n",
    "\n",
    "    def OnSolutionCallback(self):\n",
    "        self.solutions_ = self.solutions_ + 1\n",
    "        print(\"solution\", self.solutions_)\n",
    "        for project in projects:\n",
    "            print(\" - \" + project + \":\")\n",
    "            for projects_months_contractors in pr_con_mon_job:\n",
    "                if (self.Value(self.projects_months_contractors[project][contractor_month_job])):\n",
    "                    print(contractor, project, month, job)\n",
    "        print()\n",
    "\n",
    "solver = cp_model.CpSolver()\n",
    "solver.SearchForAllSolutions(model, SolutionPrinter(all_projects, projects_months_contractors))"
   ]
  },
  {
   "cell_type": "code",
   "execution_count": null,
   "metadata": {},
   "outputs": [],
   "source": []
  }
 ],
 "metadata": {
  "kernelspec": {
   "display_name": "Python 3",
   "language": "python",
   "name": "python3"
  },
  "language_info": {
   "codemirror_mode": {
    "name": "ipython",
    "version": 3
   },
   "file_extension": ".py",
   "mimetype": "text/x-python",
   "name": "python",
   "nbconvert_exporter": "python",
   "pygments_lexer": "ipython3",
   "version": "3.7.5"
  }
 },
 "nbformat": 4,
 "nbformat_minor": 4
}
